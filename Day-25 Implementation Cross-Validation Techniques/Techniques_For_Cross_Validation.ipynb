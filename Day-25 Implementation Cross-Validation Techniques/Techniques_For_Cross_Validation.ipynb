{
  "nbformat": 4,
  "nbformat_minor": 0,
  "metadata": {
    "colab": {
      "provenance": []
    },
    "kernelspec": {
      "name": "python3",
      "display_name": "Python 3"
    },
    "language_info": {
      "name": "python"
    }
  },
  "cells": [
    {
      "cell_type": "markdown",
      "source": [
        "# **Cross-validation Implementation**"
      ],
      "metadata": {
        "id": "Cjv-Lj-Dj65G"
      }
    },
    {
      "cell_type": "markdown",
      "source": [
        "# **There are different Cross-Validation techniques**\n",
        "\n",
        "- Hold-out cross-validation\n",
        "- K-folds cross-validation\n",
        "- Leave-one-out cross-validation\n",
        "- leave-p-out cross-validation\n",
        "- Stratified K-folds cross-validation\n",
        "- Repeated K-folds cross-validation\n",
        "- Group K-fold Cross-validation\n",
        "- Time series CV crosss-validation"
      ],
      "metadata": {
        "id": "JY1GKlalkCAP"
      }
    },
    {
      "cell_type": "markdown",
      "source": [
        "# Hold-Out Based Validation"
      ],
      "metadata": {
        "id": "63Z543D2kumU"
      }
    },
    {
      "cell_type": "code",
      "execution_count": 1,
      "metadata": {
        "id": "_zww449piL4c"
      },
      "outputs": [],
      "source": [
        "import numpy as np\n",
        "from sklearn.model_selection import train_test_split\n",
        "X , y = np.arange(10).reshape((5,2)),range(5)\n",
        "X_train, X_test, y_train, y_test = train_test_split(X,y,test_size=0.2,random_state=0)"
      ]
    },
    {
      "cell_type": "markdown",
      "source": [
        "# K-folds cross-validation"
      ],
      "metadata": {
        "id": "7f507vZulPd5"
      }
    },
    {
      "cell_type": "code",
      "source": [
        "import numpy as np\n",
        "from sklearn.model_selection import KFold"
      ],
      "metadata": {
        "id": "QGdPNqv-lNdx"
      },
      "execution_count": 2,
      "outputs": []
    },
    {
      "cell_type": "code",
      "source": [
        "X = np.array([[1,2],[3,4],[1,2],[3,4]])\n",
        "y = np.array([1 ,2 ,3, 4])\n",
        "kf = KFold(n_splits = 2)"
      ],
      "metadata": {
        "id": "Ct57nCRElYMs"
      },
      "execution_count": 3,
      "outputs": []
    },
    {
      "cell_type": "code",
      "source": [
        "for train_index, test_index in kf.split(X):\n",
        "  print(\"Train:\",train_index,\"Test:\", test_index)\n",
        "  X_train, X_test = X[train_index],X[test_index]\n",
        "  y_train,y_test = y[train_index],y[test_index]"
      ],
      "metadata": {
        "colab": {
          "base_uri": "https://localhost:8080/"
        },
        "id": "hO-lS20IllmS",
        "outputId": "3cbf4d36-5671-4682-f3f0-8a320c32143a"
      },
      "execution_count": 4,
      "outputs": [
        {
          "output_type": "stream",
          "name": "stdout",
          "text": [
            "Train: [2 3] Test: [0 1]\n",
            "Train: [0 1] Test: [2 3]\n"
          ]
        }
      ]
    },
    {
      "cell_type": "markdown",
      "source": [
        "# Leave One out cross-validation"
      ],
      "metadata": {
        "id": "4KYof34fmBpV"
      }
    },
    {
      "cell_type": "code",
      "source": [
        "import numpy as np\n",
        "from sklearn.model_selection import LeaveOneOut\n",
        "\n",
        "X = np.array([[1,2],[3,4]])\n",
        "y = np.array([1,2])\n",
        "loo = LeaveOneOut()\n",
        "\n",
        "for train_index , test_index in loo.split(X):\n",
        "  print(\"TRAIN:\", train_index, \"TEST:\", test_index)\n",
        "  X_train,X_test = X[train_index],X[test_index]\n",
        "  y_train,y_test = y[train_index],y[test_index]\n"
      ],
      "metadata": {
        "colab": {
          "base_uri": "https://localhost:8080/"
        },
        "id": "Vd5kYHhTl_bG",
        "outputId": "2a15fb1c-3901-4b98-8caf-511dd5753aa6"
      },
      "execution_count": 5,
      "outputs": [
        {
          "output_type": "stream",
          "name": "stdout",
          "text": [
            "TRAIN: [1] TEST: [0]\n",
            "TRAIN: [0] TEST: [1]\n"
          ]
        }
      ]
    },
    {
      "cell_type": "markdown",
      "source": [
        "# Leave-p-out cross-validation"
      ],
      "metadata": {
        "id": "C7i9irKsnJve"
      }
    },
    {
      "cell_type": "code",
      "source": [
        "import numpy as np\n",
        "from sklearn.model_selection import LeavePOut"
      ],
      "metadata": {
        "id": "AlYHamXInH86"
      },
      "execution_count": 6,
      "outputs": []
    },
    {
      "cell_type": "code",
      "source": [
        "X=np.array([[1,2],[3,4],[5,6],[7,8]])\n",
        "y = np.array([1,2,3,4])\n",
        "lpo = LeavePOut(2)\n",
        "\n",
        "for train_index,test_index in lpo.split(X):\n",
        "  print(\"Train:\",train_index,\"Test:\",test_index)\n",
        "  X_train,X_test = X[train_index],X[test_index]\n",
        "  y_train,y_test = y[train_index],y[test_index]"
      ],
      "metadata": {
        "colab": {
          "base_uri": "https://localhost:8080/"
        },
        "id": "3wIfQLhvnTX0",
        "outputId": "d209aae4-e1ec-46d0-d22a-4643d3e08dde"
      },
      "execution_count": 7,
      "outputs": [
        {
          "output_type": "stream",
          "name": "stdout",
          "text": [
            "Train: [2 3] Test: [0 1]\n",
            "Train: [1 3] Test: [0 2]\n",
            "Train: [1 2] Test: [0 3]\n",
            "Train: [0 3] Test: [1 2]\n",
            "Train: [0 2] Test: [1 3]\n",
            "Train: [0 1] Test: [2 3]\n"
          ]
        }
      ]
    },
    {
      "cell_type": "markdown",
      "source": [
        "# Stratified k-Fold Cross-Validation"
      ],
      "metadata": {
        "id": "Tom8Fc-_oF9Y"
      }
    },
    {
      "cell_type": "code",
      "source": [
        "import numpy as np\n",
        "from sklearn.model_selection import StratifiedKFold\n",
        "\n",
        "X = np.array([[1,2],[3,4],[1,2],[3,4]])\n",
        "y = np.array([0,0,1,1])\n",
        "skf = StratifiedKFold(n_splits=2)\n",
        "\n",
        "for train_index,test_index in skf.split(X,y):\n",
        "  print(\"TRAIN:\", train_index,\"TEST:\",test_index)\n",
        "  X_train, X_test = X[train_index],X[test_index]\n",
        "  y_train,y_test = y[train_index],y[test_index]"
      ],
      "metadata": {
        "colab": {
          "base_uri": "https://localhost:8080/"
        },
        "id": "Jc3FKss7oDBO",
        "outputId": "4c98ce3b-6d14-44b5-d0a9-dd1d796b4671"
      },
      "execution_count": 8,
      "outputs": [
        {
          "output_type": "stream",
          "name": "stdout",
          "text": [
            "TRAIN: [1 3] TEST: [0 2]\n",
            "TRAIN: [0 2] TEST: [1 3]\n"
          ]
        }
      ]
    },
    {
      "cell_type": "markdown",
      "source": [
        "# Repeated k-Fold cross-validation"
      ],
      "metadata": {
        "id": "zgRcH9MypDv_"
      }
    },
    {
      "cell_type": "code",
      "source": [
        "import numpy as np\n",
        "from sklearn.model_selection import RepeatedKFold\n",
        "\n",
        "X = np.array([[1, 2], [3, 4], [1, 2], [3, 4]])\n",
        "y = np.array([0, 0, 1, 1])\n",
        "rkf = RepeatedKFold(n_splits=2, n_repeats=2, random_state=42)\n",
        "\n",
        "for train_index, test_index in rkf.split(X):\n",
        "    print(\"TRAIN:\", train_index, \"TEST:\", test_index)\n",
        "    X_train, X_test = X[train_index], X[test_index]\n",
        "    y_train, y_test = y[train_index], y[test_index]"
      ],
      "metadata": {
        "colab": {
          "base_uri": "https://localhost:8080/"
        },
        "id": "MrkISB2UpB_a",
        "outputId": "c089d1d4-501d-488a-c3a7-4074f85d7631"
      },
      "execution_count": 9,
      "outputs": [
        {
          "output_type": "stream",
          "name": "stdout",
          "text": [
            "TRAIN: [0 2] TEST: [1 3]\n",
            "TRAIN: [1 3] TEST: [0 2]\n",
            "TRAIN: [0 2] TEST: [1 3]\n",
            "TRAIN: [1 3] TEST: [0 2]\n"
          ]
        }
      ]
    }
  ]
}