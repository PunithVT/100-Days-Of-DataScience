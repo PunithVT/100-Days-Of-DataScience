{
  "nbformat": 4,
  "nbformat_minor": 0,
  "metadata": {
    "colab": {
      "provenance": []
    },
    "kernelspec": {
      "name": "python3",
      "display_name": "Python 3"
    },
    "language_info": {
      "name": "python"
    }
  },
  "cells": [
    {
      "cell_type": "markdown",
      "source": [
        "# **Performance Metrics For Classification and Regression**"
      ],
      "metadata": {
        "id": "SZ7h46-maoFm"
      }
    },
    {
      "cell_type": "code",
      "execution_count": 6,
      "metadata": {
        "id": "TdkyzEzRaha_"
      },
      "outputs": [],
      "source": [
        "from sklearn.metrics import accuracy_score, precision_score, recall_score, f1_score, confusion_matrix\n",
        "from sklearn.metrics import mean_absolute_error, mean_squared_error, r2_score, median_absolute_error\n",
        "\n",
        "#classification metrics\n",
        "actual_labels = [0, 1, 1, 0, 1, 0, 1, 0, 1, 1]\n",
        "predicted_labels = [0, 1, 0, 1, 1, 0, 1, 0, 0, 1]\n",
        "\n",
        "accuracy = accuracy_score(actual_labels,predicted_labels)\n",
        "precision = precision_score(actual_labels,predicted_labels)\n",
        "recall = recall_score(actual_labels,predicted_labels)\n",
        "f1 = f1_score(actual_labels, predicted_labels)\n",
        "conf_matrix = confusion_matrix(actual_labels, predicted_labels)\n"
      ]
    },
    {
      "cell_type": "code",
      "source": [
        "print(\"Accuracy:\" ,accuracy)"
      ],
      "metadata": {
        "colab": {
          "base_uri": "https://localhost:8080/"
        },
        "id": "sKVsfmeme7_c",
        "outputId": "8b4df8aa-78a7-4855-c68b-178b76ee4fcb"
      },
      "execution_count": 7,
      "outputs": [
        {
          "output_type": "stream",
          "name": "stdout",
          "text": [
            "Accuracy: 0.7\n"
          ]
        }
      ]
    },
    {
      "cell_type": "code",
      "source": [
        "print(\"Precision:\", precision)"
      ],
      "metadata": {
        "colab": {
          "base_uri": "https://localhost:8080/"
        },
        "id": "RhYvtiAhe-Uy",
        "outputId": "43c761b1-e0bf-4031-d0dd-30f75684fda2"
      },
      "execution_count": 8,
      "outputs": [
        {
          "output_type": "stream",
          "name": "stdout",
          "text": [
            "Precision: 0.8\n"
          ]
        }
      ]
    },
    {
      "cell_type": "code",
      "source": [
        "print(\"Recall:\", recall)"
      ],
      "metadata": {
        "colab": {
          "base_uri": "https://localhost:8080/"
        },
        "id": "TWSzy94SfAq6",
        "outputId": "0788b6ea-228a-4d94-f287-dea6ce7bd908"
      },
      "execution_count": 9,
      "outputs": [
        {
          "output_type": "stream",
          "name": "stdout",
          "text": [
            "Recall: 0.6666666666666666\n"
          ]
        }
      ]
    },
    {
      "cell_type": "code",
      "source": [
        "print(\"F1-Score:\", f1)"
      ],
      "metadata": {
        "colab": {
          "base_uri": "https://localhost:8080/"
        },
        "id": "ZbywmJ2AfCbr",
        "outputId": "3c5846ff-08b8-4a1f-989b-a8fecca3d50b"
      },
      "execution_count": 10,
      "outputs": [
        {
          "output_type": "stream",
          "name": "stdout",
          "text": [
            "F1-Score: 0.7272727272727272\n"
          ]
        }
      ]
    },
    {
      "cell_type": "code",
      "source": [
        "print(\"Confusion Matrix:\\n\", conf_matrix)"
      ],
      "metadata": {
        "colab": {
          "base_uri": "https://localhost:8080/"
        },
        "id": "7hz2rlsGfDJc",
        "outputId": "d1706757-3cdb-48e8-98b7-f29c8096dc17"
      },
      "execution_count": 11,
      "outputs": [
        {
          "output_type": "stream",
          "name": "stdout",
          "text": [
            "Confusion Matrix:\n",
            " [[3 1]\n",
            " [2 4]]\n"
          ]
        }
      ]
    },
    {
      "cell_type": "code",
      "source": [
        "from sklearn.metrics import mean_absolute_error, mean_squared_error, r2_score, median_absolute_error\n",
        "\n",
        "#Regression Metrics\n",
        "actual_values = [10, 15, 20, 25, 30]\n",
        "predicted_values = [12, 14, 18, 28, 33]\n",
        "\n",
        "mae = mean_absolute_error(actual_values,predicted_values)\n",
        "mse = mean_squared_error(actual_values,predicted_values)\n",
        "r2 = r2_score(actual_values,predicted_values)\n",
        "medae = median_absolute_error(actual_values,predicted_values)\n"
      ],
      "metadata": {
        "id": "Wc25m3zbcaFK"
      },
      "execution_count": 12,
      "outputs": []
    },
    {
      "cell_type": "code",
      "source": [
        "print(\"Mean Absolute Error:\",mae)"
      ],
      "metadata": {
        "colab": {
          "base_uri": "https://localhost:8080/"
        },
        "id": "UyDGVZFefIKM",
        "outputId": "acb8a041-5461-499b-fad6-8ea048553634"
      },
      "execution_count": 13,
      "outputs": [
        {
          "output_type": "stream",
          "name": "stdout",
          "text": [
            "Mean Absolute Error: 2.2\n"
          ]
        }
      ]
    },
    {
      "cell_type": "code",
      "source": [
        "print(\"Mean Squared Error:\",mse)"
      ],
      "metadata": {
        "colab": {
          "base_uri": "https://localhost:8080/"
        },
        "id": "ua_MHGIyfNVN",
        "outputId": "ca9f3854-e13e-4ef7-e070-624e702ebc9f"
      },
      "execution_count": 14,
      "outputs": [
        {
          "output_type": "stream",
          "name": "stdout",
          "text": [
            "Mean Squared Error: 5.4\n"
          ]
        }
      ]
    },
    {
      "cell_type": "code",
      "source": [
        "print(\"R-squared:\",r2)"
      ],
      "metadata": {
        "colab": {
          "base_uri": "https://localhost:8080/"
        },
        "id": "NOCGsAVnfQ7d",
        "outputId": "d9170c1a-3a6b-4d8c-990b-d370427e1c71"
      },
      "execution_count": 15,
      "outputs": [
        {
          "output_type": "stream",
          "name": "stdout",
          "text": [
            "R-squared: 0.892\n"
          ]
        }
      ]
    },
    {
      "cell_type": "code",
      "source": [
        "print(\"Median Absolute Error:\",medae)"
      ],
      "metadata": {
        "colab": {
          "base_uri": "https://localhost:8080/"
        },
        "id": "edDraa-FfTeM",
        "outputId": "22f1519b-90fd-4f68-a70e-1834f83af276"
      },
      "execution_count": 16,
      "outputs": [
        {
          "output_type": "stream",
          "name": "stdout",
          "text": [
            "Median Absolute Error: 2.0\n"
          ]
        }
      ]
    }
  ]
}